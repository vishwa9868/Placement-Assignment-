{
 "cells": [
  {
   "cell_type": "markdown",
   "id": "6fbbb5c4",
   "metadata": {},
   "source": [
    "# python-Assignment-1"
   ]
  },
  {
   "cell_type": "markdown",
   "id": "fe21f2de",
   "metadata": {},
   "source": [
    "1-Q1. What is the purpose of Python's OOP"
   ]
  },
  {
   "cell_type": "markdown",
   "id": "a8658b90",
   "metadata": {},
   "source": [
    "ANS:-The purpose of Python's Object-Oriented Programming (OOP) is to provide a programming paradigm that organizes code into reusable objects with their own properties (attributes) and behaviors (methods). OOP allows you to structure your code in a way that models real-world entities or concepts, making it easier to manage complexity, promote code reuse, and improve code maintainability.\n",
    "\n",
    "\n",
    "\n",
    "Modularity and Reusability: OOP allows you to break down a problem into smaller, self-contained objects. These objects can be reused in different parts of your code or in other projects, promoting modularity and reducing code duplication.\n",
    "\n",
    "Encapsulation: OOP encapsulates data (attributes) and methods (functions) into objects, allowing you to control access to data and provide a clear interface for interacting with objects. Encapsulation helps with code organization, data integrity, and information hiding.\n",
    "\n",
    "Inheritance: OOP supports inheritance, which enables the creation of new classes (child classes) based on existing classes (parent classes). Inheritance allows child classes to inherit attributes and methods from parent classes, facilitating code reuse and promoting hierarchical relationships between objects.\n",
    "\n",
    "Polymorphism: Polymorphism allows objects of different classes to be used interchangeably based on a shared interface or superclass. This concept enables flexibility and allows you to write code that can work with different types of objects, enhancing code extensibility and adaptability.\n",
    "\n",
    "Code Maintainability: OOP promotes clean code organization and separation of concerns. With well-designed classes and objects, code becomes easier to understand, modify, and maintain. OOP principles, such as encapsulation and abstraction, can also improve code documentation and readability."
   ]
  },
  {
   "cell_type": "markdown",
   "id": "890a889f",
   "metadata": {},
   "source": [
    "Q2. Where does an inheritance search look for an attribute?"
   ]
  },
  {
   "cell_type": "markdown",
   "id": "0c20960a",
   "metadata": {},
   "source": [
    "ANS:-\n",
    "Instance attributes: Python first checks if the attribute exists in the instance object itself. If the attribute is found, it is used.\n",
    "\n",
    "Class attributes: If the attribute is not found in the instance object, Python searches for it in the class of the instance. If the attribute is found in the class, it is used. Class attributes are shared among all instances of the class.\n",
    "\n",
    "Parent classes: If the attribute is not found in the instance or the class, Python continues the search in the parent classes according to the method resolution order (MRO). It checks each parent class in the order specified by the inheritance hierarchy until the attribute is found or the search reaches the topmost parent class (usually the base object class).\n",
    "\n",
    "This attribute lookup order ensures that attributes defined in subclasses can override attributes defined in parent classes, allowing for flexibility and customization in object-oriented programming."
   ]
  },
  {
   "cell_type": "markdown",
   "id": "a299c7c5",
   "metadata": {},
   "source": [
    "Q3. How do you distinguish between a class object and an instance object?"
   ]
  },
  {
   "cell_type": "markdown",
   "id": "cd9b954a",
   "metadata": {},
   "source": [
    "ANS:-Class Object: A class object represents the blueprint or template for creating instances of that class. It defines the structure, attributes, and behaviors that instances of the class will have. The class object is created when the class is defined. It can have class attributes and class methods that are shared among all instances of the class. You can access class attributes and methods using the class name itself. For example, if Car is a class, Car.color refers to a class attribute, and Car.start_engine() refers to a class method.\n",
    "\n",
    "Instance Object: An instance object, also known as an instance, is a specific object created from a class using the class constructor. Each instance has its own set of attributes and can have different values for those attributes. Instances are independent entities that can be modified separately without affecting other instances or the class itself. To create an instance, you use the class name followed by parentheses. For example, car = Car() creates an instance of the Car class, and car.color refers to an instance attribute specific to that particular car object."
   ]
  },
  {
   "cell_type": "markdown",
   "id": "652cb310",
   "metadata": {},
   "source": [
    "Q4. What makes the first argument in a class’s method function special?"
   ]
  },
  {
   "cell_type": "markdown",
   "id": "e83ef7a0",
   "metadata": {},
   "source": [
    "ANS:-In Python, the first argument in a class's method function is conventionally named self. This argument is special because it refers to the instance of the class on which the method is called. It allows the method to access and manipulate the instance's attributes and behaviors.\n",
    "\n",
    "Here are a few key points that make the self argument special:\n",
    "\n",
    "Instance Binding: When a method is called on an instance object, the instance itself is automatically passed as the first argument to the method. By convention, this argument is named self, although you can technically choose any name you prefer (although it is strongly recommended to stick with self for consistency and readability).\n",
    "\n",
    "Accessing Instance Attributes: Using the self argument, you can access the instance's attributes within the method. For example, if the instance has an attribute named color, you can access it using self.color within the method. This allows methods to retrieve and modify the state of the specific instance.\n",
    "\n",
    "Invoking Other Instance Methods: The self argument enables you to invoke other methods defined within the same class on the instance. By using self.method_name(), you can call other instance methods and perform more complex operations or encapsulate related functionality.\n",
    "\n",
    "Creating and Modifying Instance Attributes: Within a method, you can create new instance attributes or modify existing ones using the self argument. For example, you can assign a value to a new attribute using self.attribute_name = value. This allows methods to update the state of the instance during execution.\n",
    "\n",
    "By using the self argument, you establish the link between a method and the instance it is called on. It provides a way to access and manipulate the specific instance's data and behaviors, enabling methods to interact with the instance and perform tasks specific to that particular object"
   ]
  },
  {
   "cell_type": "markdown",
   "id": "8404a1ae",
   "metadata": {},
   "source": [
    "Q5. What is the purpose of the __init__ method?"
   ]
  },
  {
   "cell_type": "raw",
   "id": "0149efd7",
   "metadata": {},
   "source": [
    "The __init__ method in Python is a special method, also known as the constructor, which is automatically called when an instance of a class is created. Its purpose is to initialize the attributes of the instance and perform any setup or initialization tasks that are required.\n",
    "\n",
    "Here are the key purposes and features of the __init__ method:\n",
    "\n",
    "Initialization: The primary purpose of the __init__ method is to initialize the instance's attributes with specific values. Inside the __init__ method, you can assign initial values to attributes, set up data structures, or perform any necessary setup tasks.\n",
    "\n",
    "Automatic Invocation: When an instance of a class is created using the class constructor, the __init__ method is automatically called for that instance. This ensures that the instance is properly initialized with the specified attributes and that any required setup actions are performed before using the instance.\n",
    "\n",
    "Passing Arguments: The __init__ method can accept arguments, allowing you to pass values during instance creation. These arguments can be used to set the initial state of the instance or provide data for attribute initialization. By convention, the first argument of __init__ is self, representing the instance itself.\n",
    "\n",
    "Customization: By defining your own __init__ method in a class, you can customize the initialization process for instances. This enables you to control how attributes are initialized, validate input values, perform computations, or set default values based on provided arguments or predefined logic\n",
    "\n",
    "class Car:\n",
    "    def __init__(self, color, model):\n",
    "        self.color = color\n",
    "        self.model = model\n",
    "        self.speed = 0\n",
    "\n",
    "    def accelerate(self, speed_increase):\n",
    "        self.speed += speed_increase\n",
    "\n",
    "# Creating an instance of the Car class\n",
    "my_car = Car(\"red\", \"sedan\")\n",
    "\n",
    "print(my_car.color)  # Output: red\n",
    "print(my_car.model)  # Output: sedan\n",
    "print(my_car.speed)  # Output: 0"
   ]
  },
  {
   "cell_type": "markdown",
   "id": "a7a262a6",
   "metadata": {},
   "source": [
    "Q6. What is the process for creating a class instance?"
   ]
  },
  {
   "cell_type": "raw",
   "id": "79d9706e",
   "metadata": {},
   "source": [
    "# ANS:-Class Definition: Define a class that specifies the attributes and behaviors of the objects you want to create instances of. The class serves as a blueprint or template for creating instances.\n",
    "\n",
    "Class Instantiation: Create an instance of the class by calling the class's constructor method. The constructor method is usually named __init__ and is responsible for initializing the instance's attributes. It is automatically called when an instance is created.\n",
    "\n",
    "Constructor Arguments: Pass any necessary arguments to the constructor method during instance creation. These arguments can be used to initialize the instance's attributes with specific values.\n",
    "\n",
    "Instance Assignment: Assign the newly created instance to a variable or use it directly. This allows you to reference and work with the instance throughout your program\n",
    "\n",
    "\n",
    "# Step 1: Class Definition\n",
    "class Car:\n",
    "    def __init__(self, color, model):\n",
    "        self.color = color\n",
    "        self.model = model\n",
    "\n",
    "    def start_engine(self):\n",
    "        print(\"Engine started!\")\n",
    "\n",
    "# Step 2: Class Instantiation\n",
    "my_car = Car(\"red\", \"sedan\")  # Creating an instance of the Car class\n",
    "\n",
    "# Step 3: Constructor Arguments\n",
    "# The arguments \"red\" and \"sedan\" are passed to the constructor\n",
    "\n",
    "# Step 4: Instance Assignment\n",
    "# The instance is assigned to the variable \"my_car\"\n",
    "\n",
    "# Accessing instance attributes\n",
    "print(my_car.color)  # Output: red\n",
    "print(my_car.model)  # Output: sedan\n",
    "\n",
    "# Calling instance methods\n",
    "my_car.start_engine()  # Output: Engine started!"
   ]
  },
  {
   "cell_type": "raw",
   "id": "42649e5e",
   "metadata": {},
   "source": [
    "Q7. What is the process for creating a class?"
   ]
  },
  {
   "cell_type": "raw",
   "id": "3b762c30",
   "metadata": {},
   "source": [
    "ANS:-The process for creating a class in Python involves the following steps:\n",
    "\n",
    "Class Definition: Start by defining the class using the class keyword followed by the name of the class. The name should follow Python naming conventions (typically using CamelCase).\n",
    "\n",
    "Class Attributes: Optionally, define class attributes. These attributes are shared among all instances of the class and are defined inside the class but outside of any methods. Class attributes are accessed using the class name itself.\n",
    "\n",
    "Constructor Method: Define the constructor method, usually named __init__, inside the class. The constructor is responsible for initializing the instance's attributes when an instance is created. It takes the self parameter as the first argument, which refers to the instance being created.\n",
    "\n",
    "Instance Methods: Define other methods inside the class to specify the behaviors of the instances. These methods are used to perform actions or operations related to the class and its instances. They typically take the self parameter as the first argument to access the instance's attributes and perform instance-specific operations\n",
    "\n",
    "# Step 1: Class Definition\n",
    "class Car:\n",
    "    # Step 2: Class Attributes\n",
    "    wheels = 4\n",
    "\n",
    "    # Step 3: Constructor Method\n",
    "    def __init__(self, color, model):\n",
    "        self.color = color\n",
    "        self.model = model\n",
    "\n",
    "    # Step 4: Instance Methods\n",
    "    def start_engine(self):\n",
    "        print(\"Engine started!\")\n",
    "\n",
    "    def drive(self):\n",
    "        print(\"Driving...\")\n",
    "\n",
    "# Creating instances and using the class\n",
    "\n",
    "# Creating an instance of the Car class\n",
    "my_car = Car(\"red\", \"sedan\")\n",
    "\n",
    "# Accessing class attributes\n",
    "print(Car.wheels)  # Output: 4\n",
    "\n",
    "# Accessing instance attributes\n",
    "print(my_car.color)  # Output: red\n",
    "print(my_car.model)  # Output: sedan\n",
    "\n",
    "# Calling instance methods\n",
    "my_car.start_engine()  # Output: Engine started!\n",
    "my_car.drive()  # Output: Driving..."
   ]
  },
  {
   "cell_type": "raw",
   "id": "74a041e5",
   "metadata": {},
   "source": [
    "Q8. How would you define the superclasses of a class"
   ]
  },
  {
   "cell_type": "raw",
   "id": "95e03307",
   "metadata": {},
   "source": [
    "ANS:-The superclasses of a class, also known as parent classes or base classes, are the classes from which the current class directly inherits. In Python, class inheritance allows a class to inherit attributes and behaviors from one or more superclasses.\n",
    "\n",
    "To define the superclasses of a class, you need to specify them within parentheses after the class name during class definition. This is done by including the superclass names inside the parentheses, separated by commas.\n",
    "\n",
    "# Defining superclass A\n",
    "class A:\n",
    "    def method_a(self):\n",
    "        print(\"Method A\")\n",
    "\n",
    "# Defining superclass B\n",
    "class B:\n",
    "    def method_b(self):\n",
    "        print(\"Method B\")\n",
    "\n",
    "# Defining a class C that inherits from superclasses A and B\n",
    "class C(A, B):\n",
    "    def method_c(self):\n",
    "        print(\"Method C\")\n",
    "\n",
    "# Creating an instance of class C\n",
    "my_object = C()\n",
    "\n",
    "# Calling methods from superclass A\n",
    "my_object.method_a()  # Output: Method A\n",
    "\n",
    "# Calling methods from superclass B\n",
    "my_object.method_b()  # Output: Method B\n",
    "\n",
    "# Calling method from class C\n",
    "my_object.method_c()  # Output: Method C"
   ]
  }
 ],
 "metadata": {
  "kernelspec": {
   "display_name": "Python 3 (ipykernel)",
   "language": "python",
   "name": "python3"
  },
  "language_info": {
   "codemirror_mode": {
    "name": "ipython",
    "version": 3
   },
   "file_extension": ".py",
   "mimetype": "text/x-python",
   "name": "python",
   "nbconvert_exporter": "python",
   "pygments_lexer": "ipython3",
   "version": "3.9.13"
  }
 },
 "nbformat": 4,
 "nbformat_minor": 5
}
